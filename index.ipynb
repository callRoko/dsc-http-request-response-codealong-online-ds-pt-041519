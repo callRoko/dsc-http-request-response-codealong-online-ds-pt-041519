{
 "cells": [
  {
   "cell_type": "markdown",
   "metadata": {},
   "source": [
    "# HTTP Request/Response Cycle - Codealong\n",
    "\n",
    "##  Introduction\n",
    "When developing a Web application as we saw in previous lesson, the request/response cycle is a useful guide to see how all the components of the app fit together. The request/response cycle traces how a user's request flows through the app. Understanding the request/response cycle is helpful to figure out which files to edit when developing an app (and where to look when things aren't working). This lesson will show how this setup works using python. \n",
    "\n",
    "## Objectives\n",
    "\n",
    "You will be able to: \n",
    "\n",
    "* Understand and explain the HTTP Request/Response cycle\n",
    "* Make http requests in Python using the ‘requests’ library\n",
    "\n",
    "## The `requests` Library in Python\n",
    "\n",
    "Dealing with HTTP requests could be a challenging task  any programming language. Python with two built-in modules, `urllib` and `urllib2` to handle these requests but these could be very confusing  and the documentation is not clear. This requires the programmer to write a lot of code to make even a simple HTTP request.\n",
    "\n",
    "To make these things simpler, one easy-to-use third-party library, known as` Requests`, is available and most developers prefer to use it instead or urllib/urllib2. It is an Apache2 licensed HTTP library powered by urllib3 and httplib. Requests is add-on library that allows you to send HTTP requests using Python. With this library, you can access content like web page headers, form data, files, and parameters via simple Python commands. It also allows you to access the response data in a simple way.\n",
    "\n",
    "![](images/logo.png)\n",
    "\n",
    "Below is how you would install and import the requests library before making any requests. \n",
    "```python\n",
    "# Uncomment and install requests if you don't have it already\n",
    "# !pip install requests\n",
    "\n",
    "# Import requests to working environment\n",
    "import requests\n",
    "```"
   ]
  },
  {
   "cell_type": "code",
   "execution_count": 1,
   "metadata": {},
   "outputs": [
    {
     "name": "stdout",
     "output_type": "stream",
     "text": [
      "Requirement already satisfied: requests in c:\\users\\hazel\\anaconda3\\envs\\learn-env\\lib\\site-packages (2.19.1)\n",
      "Requirement already satisfied: chardet<3.1.0,>=3.0.2 in c:\\users\\hazel\\anaconda3\\envs\\learn-env\\lib\\site-packages (from requests) (3.0.4)\n",
      "Requirement already satisfied: certifi>=2017.4.17 in c:\\users\\hazel\\anaconda3\\envs\\learn-env\\lib\\site-packages (from requests) (2018.8.13)\n",
      "Requirement already satisfied: urllib3<1.24,>=1.21.1 in c:\\users\\hazel\\anaconda3\\envs\\learn-env\\lib\\site-packages (from requests) (1.23)\n",
      "Requirement already satisfied: idna<2.8,>=2.5 in c:\\users\\hazel\\anaconda3\\envs\\learn-env\\lib\\site-packages (from requests) (2.7)\n"
     ]
    },
    {
     "name": "stderr",
     "output_type": "stream",
     "text": [
      "smart-open 1.8.0 requires bz2file, which is not installed.\n",
      "pexpect 4.6.0 requires ptyprocess>=0.5, which is not installed.\n",
      "nltk 3.4 requires singledispatch, which is not installed.\n",
      "You are using pip version 10.0.1, however version 19.1.1 is available.\n",
      "You should consider upgrading via the 'python -m pip install --upgrade pip' command.\n"
     ]
    }
   ],
   "source": [
    "# Code here\n",
    "!pip install requests"
   ]
  },
  {
   "cell_type": "code",
   "execution_count": 2,
   "metadata": {},
   "outputs": [],
   "source": [
    "import requests"
   ]
  },
  {
   "cell_type": "markdown",
   "metadata": {},
   "source": [
    "## The `.get()` Method\n",
    "\n",
    "Now we have requests library ready in our working environment, we can start making some requests using the `.get()` method as shown below:\n",
    "```python\n",
    "### Making a request\n",
    "resp = requests.get('https://www.google.com')\n",
    "```"
   ]
  },
  {
   "cell_type": "code",
   "execution_count": 3,
   "metadata": {},
   "outputs": [],
   "source": [
    "# Code here \n",
    "resp = requests.get('https://www.google.com')"
   ]
  },
  {
   "cell_type": "markdown",
   "metadata": {},
   "source": [
    "GET is by far the most used HTTP method. We can use GET request to retrieve data from any destination. \n",
    "\n",
    "## Status Codes\n",
    "The request we make may not be always successful. The best way is to check the status code which gets returned with the response. Here is how you would do this. \n",
    "```python\n",
    "# Check the returned status code\n",
    "resp.status_code == requests.codes.ok\n",
    "```"
   ]
  },
  {
   "cell_type": "code",
   "execution_count": 5,
   "metadata": {},
   "outputs": [
    {
     "data": {
      "text/plain": [
       "True"
      ]
     },
     "execution_count": 5,
     "metadata": {},
     "output_type": "execute_result"
    }
   ],
   "source": [
    "# Code here \n",
    "resp.status_code == requests.codes.ok"
   ]
  },
  {
   "cell_type": "markdown",
   "metadata": {},
   "source": [
    "So this is a good check to see if our request was successful. Depending on the status of the web server, the access rights of the clients and availability of requested information. A web server may return a number of status codes within the response. Wikipedia has an exhaustive details on all these codes. [Check them out here](https://en.wikipedia.org/wiki/List_of_HTTP_status_codes).\n",
    "\n",
    "## Response Contents\n",
    "Once we know that our request was successful and we have a valid response, we can check the returned information using `.text` property of the response object. \n",
    "```python\n",
    "print (resp.text)\n",
    "```"
   ]
  },
  {
   "cell_type": "code",
   "execution_count": 6,
   "metadata": {},
   "outputs": [
    {
     "name": "stdout",
     "output_type": "stream",
     "text": [
      "<!doctype html><html itemscope=\"\" itemtype=\"http://schema.org/WebPage\" lang=\"en\"><head><meta content=\"Search the world's information, including webpages, images, videos and more. Google has many special features to help you find exactly what you're looking for.\" name=\"description\"><meta content=\"noodp\" name=\"robots\"><meta content=\"text/html; charset=UTF-8\" http-equiv=\"Content-Type\"><meta content=\"/logos/doodles/2019/summer-2019-northern-hemisphere-6566840133222400-l.png\" itemprop=\"image\"><meta content=\"Happy Summer 2019!\" property=\"twitter:title\"><meta content=\"Happy Summer 2019! #GoogleDoodle\" property=\"twitter:description\"><meta content=\"Happy Summer 2019! #GoogleDoodle\" property=\"og:description\"><meta content=\"summary_large_image\" property=\"twitter:card\"><meta content=\"@GoogleDoodles\" property=\"twitter:site\"><meta content=\"https://www.google.com/logos/doodles/2019/summer-2019-northern-hemisphere-6566840133222400-2x.jpg\" property=\"twitter:image\"><meta content=\"https://www.google.com/logos/doodles/2019/summer-2019-northern-hemisphere-6566840133222400-2x.jpg\" property=\"og:image\"><meta content=\"914\" property=\"og:image:width\"><meta content=\"440\" property=\"og:image:height\"><title>Google</title><script nonce=\"zw2C74b7uVu96NjeH0CPDA==\">(function(){window.google={kEI:'7PUMXdzPNebI_QbU8YjADg',kEXPI:'0,1353804,1958,2422,1225,590,140,224,510,1065,2081,1071,56,322,206,1017,227,666,223,87,212,69,240,20,7,2331839,329534,1294,12383,4855,32692,15247,861,12169,6381,853,2482,2,2,6801,363,3320,5505,224,2212,266,5107,575,835,284,2,578,728,2431,59,2,1,3,1297,283,4040,3700,1267,774,2256,1401,3337,1146,9,1963,2595,3601,669,1050,1808,1397,81,7,1,2,488,2044,8909,4212,2,390,692,797,101,1119,38,920,754,119,1217,1364,1612,2735,1663,967,1064,3240,44,1769,2379,634,2608,12,620,1139,279,810,655,339,1592,532,85,2,961,198,777,1,368,1317,705,756,98,36,2,354,30,399,992,97,1010,10,168,8,109,1018,1040,455,174,967,48,459,94,11,14,10,123,1034,112,390,1441,381,25,177,168,155,5,55,13,1177,7,298,542,324,193,531,268,103,240,277,47,18,38,141,16,663,1661,959,153,665,108,152,1187,1,3,7,7,1,2,105,559,828,554,606,778,1052,9,158,26,368,227,1182,142,378,21,339,248,78,372,2,16,268,472,121,10,242,4,307,196,27,216,71,113,228,120,798,328,1284,37,63,135,201,81,506,328,67,462,427,193,319,63,61,484,279,154,80,682,97,299,171,246,228,142,104,263,108,434,24,4,338,422,229,495,2,119,200,242,721,1201,22,198,5920783,1873,1087,4,5997084,2800292,4,1572,549,333,444,1,2,80,1,900,583,7,306,1,8,1,2,2132,1,1,1,1,1,414,1,748,141,59,726,3,7,563,1,2587,30,33,13,33,33,25,71,22304313',authuser:0,kscs:'c9c918f0_7PUMXdzPNebI_QbU8YjADg',kGL:'US'};google.sn='webhp';google.kHL='en';})();(function(){google.lc=[];google.li=0;google.getEI=function(a){for(var b;a&&(!a.getAttribute||!(b=a.getAttribute(\"eid\")));)a=a.parentNode;return b||google.kEI};google.getLEI=function(a){for(var b=null;a&&(!a.getAttribute||!(b=a.getAttribute(\"leid\")));)a=a.parentNode;return b};google.https=function(){return\"https:\"==window.location.protocol};google.ml=function(){return null};google.time=function(){return(new Date).getTime()};google.log=function(a,b,e,c,g){if(a=google.logUrl(a,b,e,c,g)){b=new Image;var d=google.lc,f=google.li;d[f]=b;b.onerror=b.onload=b.onabort=function(){delete d[f]};google.vel&&google.vel.lu&&google.vel.lu(a);b.src=a;google.li=f+1}};google.logUrl=function(a,b,e,c,g){var d=\"\",f=google.ls||\"\";e||-1!=b.search(\"&ei=\")||(d=\"&ei=\"+google.getEI(c),-1==b.search(\"&lei=\")&&(c=google.getLEI(c))&&(d+=\"&lei=\"+c));c=\"\";!e&&google.cshid&&-1==b.search(\"&cshid=\")&&\"slh\"!=a&&(c=\"&cshid=\"+google.cshid);a=e||\"/\"+(g||\"gen_204\")+\"?atyp=i&ct=\"+a+\"&cad=\"+b+d+f+\"&zx=\"+google.time()+c;/^http:/i.test(a)&&google.https()&&(google.ml(Error(\"a\"),!1,{src:a,glmm:1}),a=\"\");return a};}).call(this);(function(){google.y={};google.x=function(a,b){if(a)var c=a.id;else{do c=Math.random();while(google.y[c])}google.y[c]=[a,b];return!1};google.lm=[];google.plm=function(a){google.lm.push.apply(google.lm,a)};google.lq=[];google.load=function(a,b,c){google.lq.push([[a],b,c])};google.loadAll=function(a,b){google.lq.push([a,b])};}).call(this);google.f={};var a=window.location,b=a.href.indexOf(\"#\");if(0<=b){var c=a.href.substring(b+1);/(^|&)q=/.test(c)&&-1==c.indexOf(\"#\")&&a.replace(\"/search?\"+c.replace(/(^|&)fp=[^&]*/g,\"\")+\"&cad=h\")};</script><style>#gbar,#guser{font-size:13px;padding-top:1px !important;}#gbar{height:22px}#guser{padding-bottom:7px !important;text-align:right}.gbh,.gbd{border-top:1px solid #c9d7f1;font-size:1px}.gbh{height:0;position:absolute;top:24px;width:100%}@media all{.gb1{height:22px;margin-right:.5em;vertical-align:top}#gbar{float:left}}a.gb1,a.gb4{text-decoration:underline !important}a.gb1,a.gb4{color:#00c !important}.gbi .gb4{color:#dd8e27 !important}.gbf .gb4{color:#900 !important}\n",
      "</style><style>body,td,a,p,.h{font-family:arial,sans-serif}body{margin:0;overflow-y:scroll}#gog{padding:3px 8px 0}td{line-height:.8em}.gac_m td{line-height:17px}form{margin-bottom:20px}.h{color:#36c}.q{color:#00c}.ts td{padding:0}.ts{border-collapse:collapse}em{font-weight:bold;font-style:normal}.lst{height:25px;width:496px}.gsfi,.lst{font:18px arial,sans-serif}.gsfs{font:17px arial,sans-serif}.ds{display:inline-box;display:inline-block;margin:3px 0 4px;margin-left:4px}input{font-family:inherit}a.gb1,a.gb2,a.gb3,a.gb4{color:#11c !important}body{background:#fff;color:black}a{color:#11c;text-decoration:none}a:hover,a:active{text-decoration:underline}.fl a{color:#36c}a:visited{color:#551a8b}a.gb1,a.gb4{text-decoration:underline}a.gb3:hover{text-decoration:none}#ghead a.gb2:hover{color:#fff !important}.sblc{padding-top:5px}.sblc a{display:block;margin:2px 0;margin-left:13px;font-size:11px}.lsbb{background:#eee;border:solid 1px;border-color:#ccc #999 #999 #ccc;height:30px}.lsbb{display:block}.ftl,#fll a{display:inline-block;margin:0 12px}.lsb{background:url(/images/nav_logo229.png) 0 -261px repeat-x;border:none;color:#000;cursor:pointer;height:30px;margin:0;outline:0;font:15px arial,sans-serif;vertical-align:top}.lsb:active{background:#ccc}.lst:focus{outline:none}</style><script nonce=\"zw2C74b7uVu96NjeH0CPDA==\"></script></head><body bgcolor=\"#fff\"><script nonce=\"zw2C74b7uVu96NjeH0CPDA==\">(function(){var src='/images/nav_logo229.png';var iesg=false;document.body.onload = function(){window.n && window.n();if (document.images){new Image().src=src;}\n",
      "if (!iesg){document.f&&document.f.q.focus();document.gbqf&&document.gbqf.q.focus();}\n",
      "}\n",
      "})();</script><div id=\"mngb\"> <div id=gbar><nobr><b class=gb1>Search</b> <a class=gb1 href=\"https://www.google.com/imghp?hl=en&tab=wi\">Images</a> <a class=gb1 href=\"https://maps.google.com/maps?hl=en&tab=wl\">Maps</a> <a class=gb1 href=\"https://play.google.com/?hl=en&tab=w8\">Play</a> <a class=gb1 href=\"https://www.youtube.com/?gl=US&tab=w1\">YouTube</a> <a class=gb1 href=\"https://news.google.com/nwshp?hl=en&tab=wn\">News</a> <a class=gb1 href=\"https://mail.google.com/mail/?tab=wm\">Gmail</a> <a class=gb1 href=\"https://drive.google.com/?tab=wo\">Drive</a> <a class=gb1 style=\"text-decoration:none\" href=\"https://www.google.com/intl/en/about/products?tab=wh\"><u>More</u> &raquo;</a></nobr></div><div id=guser width=100%><nobr><span id=gbn class=gbi></span><span id=gbf class=gbf></span><span id=gbe></span><a href=\"http://www.google.com/history/optout?hl=en\" class=gb4>Web History</a> | <a  href=\"/preferences?hl=en\" class=gb4>Settings</a> | <a target=_top id=gb_70 href=\"https://accounts.google.com/ServiceLogin?hl=en&passive=true&continue=https://www.google.com/\" class=gb4>Sign in</a></nobr></div><div class=gbh style=left:0></div><div class=gbh style=right:0></div> </div><center><br clear=\"all\" id=\"lgpd\"><div id=\"lga\"><a href=\"/search?ie=UTF-8&amp;q=Summer+Season&amp;oi=ddle&amp;ct=119273041&amp;hl=en&amp;kgmid=/m/09gpr_j&amp;sa=X&amp;ved=0ahUKEwjc9Zac8PriAhVmZN8KHdQ4AugQPQgD\"><img alt=\"Happy Summer 2019!\" border=\"0\" height=\"220\" src=\"/logos/doodles/2019/summer-2019-northern-hemisphere-6566840133222400-l.png\" title=\"Happy Summer 2019!\" width=\"457\" id=\"hplogo\" onload=\"window.lol&&lol()\"><br></a><br></div><form action=\"/search\" name=\"f\"><table cellpadding=\"0\" cellspacing=\"0\"><tr valign=\"top\"><td width=\"25%\">&nbsp;</td><td align=\"center\" nowrap=\"\"><input name=\"ie\" value=\"ISO-8859-1\" type=\"hidden\"><input value=\"en\" name=\"hl\" type=\"hidden\"><input name=\"source\" type=\"hidden\" value=\"hp\"><input name=\"biw\" type=\"hidden\"><input name=\"bih\" type=\"hidden\"><div class=\"ds\" style=\"height:32px;margin:4px 0\"><input style=\"color:#000;margin:0;padding:5px 8px 0 6px;vertical-align:top\" autocomplete=\"off\" class=\"lst\" value=\"\" title=\"Google Search\" maxlength=\"2048\" name=\"q\" size=\"57\"></div><br style=\"line-height:0\"><span class=\"ds\"><span class=\"lsbb\"><input class=\"lsb\" value=\"Google Search\" name=\"btnG\" type=\"submit\"></span></span><span class=\"ds\"><span class=\"lsbb\"><input class=\"lsb\" value=\"I'm Feeling Lucky\" name=\"btnI\" onclick=\"if(this.form.q.value)this.checked=1; else top.location='/doodles/'\" type=\"submit\"></span></span></td><td class=\"fl sblc\" align=\"left\" nowrap=\"\" width=\"25%\"><a href=\"/advanced_search?hl=en&amp;authuser=0\">Advanced search</a><a href=\"/language_tools?hl=en&amp;authuser=0\">Language tools</a></td></tr></table><input id=\"gbv\" name=\"gbv\" type=\"hidden\" value=\"1\"><script nonce=\"zw2C74b7uVu96NjeH0CPDA==\">(function(){var a,b=\"1\";if(document&&document.getElementById)if(\"undefined\"!=typeof XMLHttpRequest)b=\"2\";else if(\"undefined\"!=typeof ActiveXObject){var c,d,e=[\"MSXML2.XMLHTTP.6.0\",\"MSXML2.XMLHTTP.3.0\",\"MSXML2.XMLHTTP\",\"Microsoft.XMLHTTP\"];for(c=0;d=e[c++];)try{new ActiveXObject(d),b=\"2\"}catch(h){}}a=b;if(\"2\"==a&&-1==location.search.indexOf(\"&gbv=2\")){var f=google.gbvu,g=document.getElementById(\"gbv\");g&&(g.value=a);f&&window.setTimeout(function(){location.href=f},0)};}).call(this);</script></form><div id=\"gac_scont\"></div><div style=\"font-size:83%;min-height:3.5em\"><br></div><span id=\"footer\"><div style=\"font-size:10pt\"><div style=\"margin:19px auto;text-align:center\" id=\"fll\"><a href=\"/intl/en/ads/\">Advertising Programs</a><a href=\"/services/\">Business Solutions</a><a href=\"/intl/en/about.html\">About Google</a></div></div><p style=\"color:#767676;font-size:8pt\">&copy; 2019 - <a href=\"/intl/en/policies/privacy/\">Privacy</a> - <a href=\"/intl/en/policies/terms/\">Terms</a></p></span></center><script nonce=\"zw2C74b7uVu96NjeH0CPDA==\">(function(){window.google.cdo={height:0,width:0};(function(){var a=window.innerWidth,b=window.innerHeight;if(!a||!b){var c=window.document,d=\"CSS1Compat\"==c.compatMode?c.documentElement:c.body;a=d.clientWidth;b=d.clientHeight}a&&b&&(a!=google.cdo.width||b!=google.cdo.height)&&google.log(\"\",\"\",\"/client_204?&atyp=i&biw=\"+a+\"&bih=\"+b+\"&ei=\"+google.kEI);}).call(this);})();(function(){var u='/xjs/_/js/k\\x3dxjs.hp.en_US.M10sUP_WGM4.O/m\\x3dsb_he,d/am\\x3dgIOa/d\\x3d1/rs\\x3dACT90oHwgvLum8VOQd4YDMqvrgZ110RxWw';setTimeout(function(){var a=document.createElement(\"script\");a.src=u;google.timers&&google.timers.load&&google.tick&&google.tick(\"load\",\"xjsls\");document.body.appendChild(a)},0);})();(function(){window.google.xjsu='/xjs/_/js/k\\x3dxjs.hp.en_US.M10sUP_WGM4.O/m\\x3dsb_he,d/am\\x3dgIOa/d\\x3d1/rs\\x3dACT90oHwgvLum8VOQd4YDMqvrgZ110RxWw';})();function _DumpException(e){throw e;}\n",
      "function _F_installCss(c){}\n",
      "(function(){google.spjs=false;google.snet=true;google.em=[];google.emw=false;})();google.sm=1;(function(){var pmc='{\\x22Qnk92g\\x22:{},\\x22RWGcrA\\x22:{},\\x22U5B21g\\x22:{},\\x22YFCs/g\\x22:{},\\x22ZI/YVQ\\x22:{},\\x22d\\x22:{},\\x22mVopag\\x22:{},\\x22sb_he\\x22:{\\x22agen\\x22:true,\\x22cgen\\x22:true,\\x22client\\x22:\\x22heirloom-hp\\x22,\\x22dh\\x22:true,\\x22dhqt\\x22:true,\\x22ds\\x22:\\x22\\x22,\\x22ffql\\x22:\\x22en\\x22,\\x22fl\\x22:true,\\x22host\\x22:\\x22google.com\\x22,\\x22isbh\\x22:28,\\x22jsonp\\x22:true,\\x22msgs\\x22:{\\x22cibl\\x22:\\x22Clear Search\\x22,\\x22dym\\x22:\\x22Did you mean:\\x22,\\x22lcky\\x22:\\x22I\\\\u0026#39;m Feeling Lucky\\x22,\\x22lml\\x22:\\x22Learn more\\x22,\\x22oskt\\x22:\\x22Input tools\\x22,\\x22psrc\\x22:\\x22This search was removed from your \\\\u003Ca href\\x3d\\\\\\x22/history\\\\\\x22\\\\u003EWeb History\\\\u003C/a\\\\u003E\\x22,\\x22psrl\\x22:\\x22Remove\\x22,\\x22sbit\\x22:\\x22Search by image\\x22,\\x22srch\\x22:\\x22Google Search\\x22},\\x22ovr\\x22:{},\\x22pq\\x22:\\x22\\x22,\\x22refpd\\x22:true,\\x22rfs\\x22:[],\\x22sbpl\\x22:24,\\x22sbpr\\x22:24,\\x22scd\\x22:10,\\x22sce\\x22:5,\\x22stok\\x22:\\x220wMGe1_5rCyFwqaHyPesub43EGQ\\x22,\\x22uhde\\x22:false}}';google.pmc=JSON.parse(pmc);})();</script>        </body></html>\n"
     ]
    }
   ],
   "source": [
    "# Code here \n",
    "print(resp.text)"
   ]
  },
  {
   "cell_type": "markdown",
   "metadata": {},
   "source": [
    "So this returns a lot of information which by default is not really human understandable due to data encoding, HTML tags and other styling information that only a web browser can truly translate. In later lessons we'll learn how we can use **_Regular Expressions_**  to clean this information and extract the required bits and pieces for analysis. \n",
    "\n",
    "## Response Headers\n",
    "The response of an HTTP request can contain many headers that holds different bits of information. We can use `.header` property of the response object to access the header information as shown below:\n",
    "\n",
    "```python\n",
    "# Read the header of the response - convert to dictionary for displaying k:v pairs neatly\n",
    "dict(resp.headers)\n",
    "```"
   ]
  },
  {
   "cell_type": "code",
   "execution_count": 7,
   "metadata": {},
   "outputs": [
    {
     "data": {
      "text/plain": [
       "{'Date': 'Fri, 21 Jun 2019 15:21:16 GMT',\n",
       " 'Expires': '-1',\n",
       " 'Cache-Control': 'private, max-age=0',\n",
       " 'Content-Type': 'text/html; charset=ISO-8859-1',\n",
       " 'P3P': 'CP=\"This is not a P3P policy! See g.co/p3phelp for more info.\"',\n",
       " 'Content-Encoding': 'gzip',\n",
       " 'Server': 'gws',\n",
       " 'X-XSS-Protection': '0',\n",
       " 'X-Frame-Options': 'SAMEORIGIN',\n",
       " 'Set-Cookie': '1P_JAR=2019-06-21-15; expires=Sun, 21-Jul-2019 15:21:16 GMT; path=/; domain=.google.com, NID=186=NULJS3e8WNZE6cThYUfrssiwe_R5FDzp0x38L-eu_hcm_Uli_oeVPeq1EBGiOqdKMFx6Nz5Gk5_rUU2KXyKEYR1TqIlWii2QJTbl2iKv4XfIbkS4LCLKX26G6EQh8gyEN8XG8ay3QRk6axzy2OxxIDEy6qd2-xAGdkjIG71rxDg; expires=Sat, 21-Dec-2019 15:21:16 GMT; path=/; domain=.google.com; HttpOnly',\n",
       " 'Alt-Svc': 'quic=\":443\"; ma=2592000; v=\"46,44,43,39\"',\n",
       " 'Transfer-Encoding': 'chunked'}"
      ]
     },
     "execution_count": 7,
     "metadata": {},
     "output_type": "execute_result"
    }
   ],
   "source": [
    "# Code here \n",
    "dict(resp.headers)"
   ]
  },
  {
   "cell_type": "markdown",
   "metadata": {},
   "source": [
    "The content of the headers is our required element. You can see the key-value pairs holding various pieces of  information about the resource and request. Let's try to parse some of these values using the requests library:\n",
    "\n",
    "```python\n",
    "print(resp.headers['Date'])  # Date the response was sent\n",
    "print(resp.headers['server'])   # Server type (google web service - GWS)\n",
    "```"
   ]
  },
  {
   "cell_type": "code",
   "execution_count": 8,
   "metadata": {},
   "outputs": [
    {
     "name": "stdout",
     "output_type": "stream",
     "text": [
      "Fri, 21 Jun 2019 15:21:16 GMT\n",
      "gws\n"
     ]
    }
   ],
   "source": [
    "# Code here \n",
    "print(resp.headers['Date'])\n",
    "print(resp.headers['server'])"
   ]
  },
  {
   "cell_type": "markdown",
   "metadata": {},
   "source": [
    "## Try `httpbin`\n",
    "`httpbin.org` is a popular website to test different HTTP operation and practice with request-response cycles. Let's use httpbin/get to analyze the response to a GET request. First of all, let's find out the response header and inspect how it looks. \n",
    "\n",
    "```python\n",
    "r = requests.get('http://httpbin.org/get')\n",
    "\n",
    "response = r.json()  \n",
    "print(r.json())  \n",
    "print(response['args'])  \n",
    "print(response['headers'])  \n",
    "print(response['headers']['Accept'])  \n",
    "print(response['headers']['Accept-Encoding'])  \n",
    "print(response['headers']['Host'])  \n",
    "print(response['headers']['User-Agent'])  \n",
    "print(response['origin'])  \n",
    "print(response['url'])  \n",
    "```"
   ]
  },
  {
   "cell_type": "code",
   "execution_count": 9,
   "metadata": {},
   "outputs": [],
   "source": [
    "# Code here \n",
    "r = requests.get('http://httpbin.org/get')"
   ]
  },
  {
   "cell_type": "code",
   "execution_count": 10,
   "metadata": {},
   "outputs": [
    {
     "name": "stdout",
     "output_type": "stream",
     "text": [
      "{'args': {}, 'headers': {'Accept': '*/*', 'Accept-Encoding': 'gzip, deflate', 'Host': 'httpbin.org', 'User-Agent': 'python-requests/2.19.1'}, 'origin': '24.47.113.17, 24.47.113.17', 'url': 'https://httpbin.org/get'}\n"
     ]
    }
   ],
   "source": [
    "response = r.json()\n",
    "print(r.json())"
   ]
  },
  {
   "cell_type": "code",
   "execution_count": 11,
   "metadata": {},
   "outputs": [
    {
     "name": "stdout",
     "output_type": "stream",
     "text": [
      "{}\n",
      "{'Accept': '*/*', 'Accept-Encoding': 'gzip, deflate', 'Host': 'httpbin.org', 'User-Agent': 'python-requests/2.19.1'}\n",
      "*/*\n",
      "gzip, deflate\n",
      "httpbin.org\n",
      "python-requests/2.19.1\n",
      "24.47.113.17, 24.47.113.17\n",
      "https://httpbin.org/get\n"
     ]
    }
   ],
   "source": [
    "print(response['args'])  \n",
    "print(response['headers'])  \n",
    "print(response['headers']['Accept'])  \n",
    "print(response['headers']['Accept-Encoding'])  \n",
    "print(response['headers']['Host'])  \n",
    "print(response['headers']['User-Agent'])  \n",
    "print(response['origin'])  \n",
    "print(response['url'])"
   ]
  },
  {
   "cell_type": "markdown",
   "metadata": {},
   "source": [
    "Let's use `requests` object structure to parse the values of headers as we did above. \n",
    "\n",
    "```python\n",
    "print(r.headers['Access-Control-Allow-Credentials'])  \n",
    "print(r.headers['Access-Control-Allow-Origin'])  \n",
    "print(r.headers['CONNECTION'])  \n",
    "print(r.headers['content-length'])  \n",
    "print(r.headers['Content-Type'])  \n",
    "print(r.headers['Date'])  \n",
    "print(r.headers['server'])  \n",
    "```"
   ]
  },
  {
   "cell_type": "code",
   "execution_count": 12,
   "metadata": {},
   "outputs": [
    {
     "name": "stdout",
     "output_type": "stream",
     "text": [
      "true\n",
      "*\n",
      "keep-alive\n",
      "182\n",
      "application/json\n",
      "Fri, 21 Jun 2019 15:23:51 GMT\n",
      "nginx\n"
     ]
    }
   ],
   "source": [
    "# Code here \n",
    "print(r.headers['Access-Control-Allow-Credentials'])  \n",
    "print(r.headers['Access-Control-Allow-Origin'])  \n",
    "print(r.headers['CONNECTION'])  \n",
    "print(r.headers['content-length'])  \n",
    "print(r.headers['Content-Type'])  \n",
    "print(r.headers['Date'])  \n",
    "print(r.headers['server'])  "
   ]
  },
  {
   "cell_type": "markdown",
   "metadata": {},
   "source": [
    "## Passing Parameters in GET\n",
    "In some cases, you'll need to pass parameters along with your GET requests. These extra parameters usually take the the form of query strings added to the requested URL. To do this, we need to pass these values in the `params` parameter. Let's try to access information from `httpbin` with some user information. \n",
    "\n",
    "Note: The user information is not getting authenticated at `httpbin` so any name/password will work fine. This is merely for practice. \n",
    "\n",
    "```python\n",
    "credentials = {'user_name': 'FlatironSchool', 'password': 'learnlovecode'}  \n",
    "r = requests.get('http://httpbin.org/get', params=credentials)\n",
    "\n",
    "print(r.url)  \n",
    "print(r.text)  \n",
    "```"
   ]
  },
  {
   "cell_type": "code",
   "execution_count": 14,
   "metadata": {},
   "outputs": [
    {
     "name": "stdout",
     "output_type": "stream",
     "text": [
      "http://httpbin.org/get?user_name=FlatironSchool&password=learnlovecode\n",
      "{\n",
      "  \"args\": {\n",
      "    \"password\": \"learnlovecode\", \n",
      "    \"user_name\": \"FlatironSchool\"\n",
      "  }, \n",
      "  \"headers\": {\n",
      "    \"Accept\": \"*/*\", \n",
      "    \"Accept-Encoding\": \"gzip, deflate\", \n",
      "    \"Host\": \"httpbin.org\", \n",
      "    \"User-Agent\": \"python-requests/2.19.1\"\n",
      "  }, \n",
      "  \"origin\": \"24.47.113.17, 24.47.113.17\", \n",
      "  \"url\": \"https://httpbin.org/get?user_name=FlatironSchool&password=learnlovecode\"\n",
      "}\n",
      "\n"
     ]
    }
   ],
   "source": [
    "# Code here \n",
    "credentials = {'user_name': 'FlatironSchool', 'password': 'learnlovecode'}\n",
    "r = requests.get('http://httpbin.org/get', params =credentials)\n",
    "\n",
    "print(r.url)\n",
    "print(r.text)"
   ]
  },
  {
   "cell_type": "markdown",
   "metadata": {},
   "source": [
    "## HTTP POST method \n",
    "\n",
    "Sometimes we need to send one or more files simultaneously to the server. For example, if a user is submitting a form and the form includes different fields for uploading files, like user profile picture, user resume, etc. Requests can handle multiple files on a single request. This can be achieved by putting the files to a list of tuples in the form (`field_name, file_info)`.\n",
    "\n",
    "\n",
    "```python\n",
    "import requests\n",
    "\n",
    "url = 'http://httpbin.org/post'  \n",
    "file_list = [  \n",
    "    ('image', ('fi.png', open('images/fi.png', 'rb'), 'image/png')),\n",
    "    ('image', ('fi2.jpeg', open('images/fi2.jpeg', 'rb'), 'image/png'))\n",
    "]\n",
    "\n",
    "r = requests.post(url, files=file_list)  \n",
    "print(r.text)  \n",
    "```"
   ]
  },
  {
   "cell_type": "code",
   "execution_count": 15,
   "metadata": {},
   "outputs": [
    {
     "name": "stdout",
     "output_type": "stream",
     "text": [
      "{\n",
      "  \"args\": {}, \n",
      "  \"data\": \"\", \n",
      "  \"files\": {\n",
      "    \"image\": \"data:image/png;base64,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\"\n",
      "  }, \n",
      "  \"form\": {}, \n",
      "  \"headers\": {\n",
      "    \"Accept\": \"*/*\", \n",
      "    \"Accept-Encoding\": \"gzip, deflate\", \n",
      "    \"Content-Length\": \"40790\", \n",
      "    \"Content-Type\": \"multipart/form-data; boundary=f1d9f559a19f6dbb64c3aa7521f56295\", \n",
      "    \"Host\": \"httpbin.org\", \n",
      "    \"User-Agent\": \"python-requests/2.19.1\"\n",
      "  }, \n",
      "  \"json\": null, \n",
      "  \"origin\": \"24.47.113.17, 24.47.113.17\", \n",
      "  \"url\": \"https://httpbin.org/post\"\n",
      "}\n",
      "\n"
     ]
    }
   ],
   "source": [
    "# Code here  \n",
    "url = 'http://httpbin.org/post'\n",
    "file_list = [  \n",
    "    ('image', ('fi.png', open('images/fi.png', 'rb'), 'image/png')),\n",
    "    ('image', ('fi2.jpeg', open('images/fi2.jpeg', 'rb'), 'image/png'))\n",
    "]\n",
    "\n",
    "r = requests.post(url, files = file_list)\n",
    "print(r.text)"
   ]
  },
  {
   "cell_type": "markdown",
   "metadata": {},
   "source": [
    "This was a brief introduction to how you would send requests and get responses from a web server, while totally avoiding the web browser interface. Later we'll see how we can pick up the required data elements from the contents of the web page for analytical purpose. \n",
    "\n",
    "## Summary\n",
    "In this lesson, we provided an introduction to the `requests` library in python. We saw how to use the get method to send requests to web servers, check server status, look at the header elements of a web page and how to send extra parameters like user information. "
   ]
  }
 ],
 "metadata": {
  "kernelspec": {
   "display_name": "Python 3",
   "language": "python",
   "name": "python3"
  },
  "language_info": {
   "codemirror_mode": {
    "name": "ipython",
    "version": 3
   },
   "file_extension": ".py",
   "mimetype": "text/x-python",
   "name": "python",
   "nbconvert_exporter": "python",
   "pygments_lexer": "ipython3",
   "version": "3.6.6"
  }
 },
 "nbformat": 4,
 "nbformat_minor": 2
}
